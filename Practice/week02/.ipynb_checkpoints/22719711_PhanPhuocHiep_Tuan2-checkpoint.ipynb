{
 "cells": [
  {
   "cell_type": "code",
   "execution_count": null,
   "metadata": {},
   "outputs": [],
   "source": [
    "#Lop:DHCNTT17A\n",
    "#MSSV: 22719711\n",
    "#HoTen: Phan Phước Hiệp"
   ]
  },
  {
   "cell_type": "code",
   "execution_count": 31,
   "metadata": {},
   "outputs": [],
   "source": [
    "#import thư viện\n",
    "import numpy as np\n",
    "import pandas as pd\n",
    "from matplotlib import pyplot as plt"
   ]
  },
  {
   "cell_type": "code",
   "execution_count": 32,
   "metadata": {},
   "outputs": [],
   "source": [
    "#load data\n",
    "thietbi = pd.read_csv('thietbi.csv')\n",
    "nguoidung_thietbi = pd.read_csv('nguoidung_thietbi.csv')\n",
    "nguoidung_sudung = pd.read_csv('nguoidung_sudung.csv')"
   ]
  },
  {
   "cell_type": "code",
   "execution_count": 33,
   "metadata": {},
   "outputs": [],
   "source": [
    "#Đổi tên cột cần thiết\n",
    "thietbi.rename(columns={'Retail Branding': 'Branding', 'Marketing Name': 'MarketingName'}, inplace=True)"
   ]
  },
  {
   "cell_type": "code",
   "execution_count": 34,
   "metadata": {},
   "outputs": [],
   "source": [
    "#Trộn bảng người dùng với nguoidung_thietbi\n",
    "dfKetQua = pd.merge(nguoidung_sudung, nguoidung_thietbi[['use_id', 'platform', 'device']], on='use_id')\n",
    "#hoặc dùng left-join\n",
    "dfKetQuaL = pd.merge(nguoidung_sudung, nguoidung_thietbi[['use_id', 'platform', 'device']], on='use_id', how='left')"
   ]
  },
  {
   "cell_type": "code",
   "execution_count": 35,
   "metadata": {},
   "outputs": [
    {
     "data": {
      "text/html": [
       "<div>\n",
       "<style scoped>\n",
       "    .dataframe tbody tr th:only-of-type {\n",
       "        vertical-align: middle;\n",
       "    }\n",
       "\n",
       "    .dataframe tbody tr th {\n",
       "        vertical-align: top;\n",
       "    }\n",
       "\n",
       "    .dataframe thead th {\n",
       "        text-align: right;\n",
       "    }\n",
       "</style>\n",
       "<table border=\"1\" class=\"dataframe\">\n",
       "  <thead>\n",
       "    <tr style=\"text-align: right;\">\n",
       "      <th></th>\n",
       "      <th>outgoing_mins_per_month</th>\n",
       "      <th>outgoing_sms_per_month</th>\n",
       "      <th>monthly_mb</th>\n",
       "      <th>use_id</th>\n",
       "      <th>platform</th>\n",
       "      <th>device</th>\n",
       "    </tr>\n",
       "  </thead>\n",
       "  <tbody>\n",
       "    <tr>\n",
       "      <th>0</th>\n",
       "      <td>21.97</td>\n",
       "      <td>4.82</td>\n",
       "      <td>1557.33</td>\n",
       "      <td>22787</td>\n",
       "      <td>android</td>\n",
       "      <td>GT-I9505</td>\n",
       "    </tr>\n",
       "    <tr>\n",
       "      <th>1</th>\n",
       "      <td>1710.08</td>\n",
       "      <td>136.88</td>\n",
       "      <td>7267.55</td>\n",
       "      <td>22788</td>\n",
       "      <td>android</td>\n",
       "      <td>SM-G930F</td>\n",
       "    </tr>\n",
       "    <tr>\n",
       "      <th>2</th>\n",
       "      <td>1710.08</td>\n",
       "      <td>136.88</td>\n",
       "      <td>7267.55</td>\n",
       "      <td>22789</td>\n",
       "      <td>android</td>\n",
       "      <td>SM-G930F</td>\n",
       "    </tr>\n",
       "    <tr>\n",
       "      <th>3</th>\n",
       "      <td>94.46</td>\n",
       "      <td>35.17</td>\n",
       "      <td>519.12</td>\n",
       "      <td>22790</td>\n",
       "      <td>android</td>\n",
       "      <td>D2303</td>\n",
       "    </tr>\n",
       "    <tr>\n",
       "      <th>4</th>\n",
       "      <td>71.59</td>\n",
       "      <td>79.26</td>\n",
       "      <td>1557.33</td>\n",
       "      <td>22792</td>\n",
       "      <td>android</td>\n",
       "      <td>SM-G361F</td>\n",
       "    </tr>\n",
       "  </tbody>\n",
       "</table>\n",
       "</div>"
      ],
      "text/plain": [
       "   outgoing_mins_per_month  outgoing_sms_per_month  monthly_mb  use_id  \\\n",
       "0                    21.97                    4.82     1557.33   22787   \n",
       "1                  1710.08                  136.88     7267.55   22788   \n",
       "2                  1710.08                  136.88     7267.55   22789   \n",
       "3                    94.46                   35.17      519.12   22790   \n",
       "4                    71.59                   79.26     1557.33   22792   \n",
       "\n",
       "  platform    device  \n",
       "0  android  GT-I9505  \n",
       "1  android  SM-G930F  \n",
       "2  android  SM-G930F  \n",
       "3  android     D2303  \n",
       "4  android  SM-G361F  "
      ]
     },
     "execution_count": 35,
     "metadata": {},
     "output_type": "execute_result"
    }
   ],
   "source": [
    "dfKetQua.head(5)\n",
    "# dfKetQuaL.head(5)"
   ]
  },
  {
   "cell_type": "code",
   "execution_count": 36,
   "metadata": {},
   "outputs": [],
   "source": [
    "#Tiếp tục inner-join bảng thietbi và dfKetQua để có thêm 2 cột Model và Branding trong\n",
    "#bảng kết quả cuối cùng.\n",
    "\n",
    "#dùng inner-jon\n",
    "dfKetQua = pd.merge(dfKetQua, thietbi[['Branding', 'Model']],\n",
    "                   left_on='device',\n",
    "                   right_on='Model')\n",
    "#hoặc dùng left-join\n",
    "# dfKetQuaL = pd.merge(dfKetQuaL, thietbi[['Branding', 'Model']],\n",
    "#                     left_on='device',\n",
    "#                     right_on='Model', how='left')"
   ]
  },
  {
   "cell_type": "code",
   "execution_count": 37,
   "metadata": {},
   "outputs": [
    {
     "data": {
      "text/html": [
       "<div>\n",
       "<style scoped>\n",
       "    .dataframe tbody tr th:only-of-type {\n",
       "        vertical-align: middle;\n",
       "    }\n",
       "\n",
       "    .dataframe tbody tr th {\n",
       "        vertical-align: top;\n",
       "    }\n",
       "\n",
       "    .dataframe thead th {\n",
       "        text-align: right;\n",
       "    }\n",
       "</style>\n",
       "<table border=\"1\" class=\"dataframe\">\n",
       "  <thead>\n",
       "    <tr style=\"text-align: right;\">\n",
       "      <th></th>\n",
       "      <th>outgoing_mins_per_month</th>\n",
       "      <th>outgoing_sms_per_month</th>\n",
       "      <th>monthly_mb</th>\n",
       "      <th>use_id</th>\n",
       "      <th>platform</th>\n",
       "      <th>device</th>\n",
       "      <th>Branding</th>\n",
       "      <th>Model</th>\n",
       "    </tr>\n",
       "  </thead>\n",
       "  <tbody>\n",
       "    <tr>\n",
       "      <th>0</th>\n",
       "      <td>21.97</td>\n",
       "      <td>4.82</td>\n",
       "      <td>1557.33</td>\n",
       "      <td>22787</td>\n",
       "      <td>android</td>\n",
       "      <td>GT-I9505</td>\n",
       "      <td>Samsung</td>\n",
       "      <td>GT-I9505</td>\n",
       "    </tr>\n",
       "    <tr>\n",
       "      <th>1</th>\n",
       "      <td>69.80</td>\n",
       "      <td>14.70</td>\n",
       "      <td>25955.55</td>\n",
       "      <td>22801</td>\n",
       "      <td>android</td>\n",
       "      <td>GT-I9505</td>\n",
       "      <td>Samsung</td>\n",
       "      <td>GT-I9505</td>\n",
       "    </tr>\n",
       "    <tr>\n",
       "      <th>2</th>\n",
       "      <td>249.26</td>\n",
       "      <td>253.22</td>\n",
       "      <td>1557.33</td>\n",
       "      <td>22875</td>\n",
       "      <td>android</td>\n",
       "      <td>GT-I9505</td>\n",
       "      <td>Samsung</td>\n",
       "      <td>GT-I9505</td>\n",
       "    </tr>\n",
       "    <tr>\n",
       "      <th>3</th>\n",
       "      <td>249.26</td>\n",
       "      <td>253.22</td>\n",
       "      <td>1557.33</td>\n",
       "      <td>22876</td>\n",
       "      <td>android</td>\n",
       "      <td>GT-I9505</td>\n",
       "      <td>Samsung</td>\n",
       "      <td>GT-I9505</td>\n",
       "    </tr>\n",
       "    <tr>\n",
       "      <th>4</th>\n",
       "      <td>83.46</td>\n",
       "      <td>114.06</td>\n",
       "      <td>3114.67</td>\n",
       "      <td>22880</td>\n",
       "      <td>android</td>\n",
       "      <td>GT-I9505</td>\n",
       "      <td>Samsung</td>\n",
       "      <td>GT-I9505</td>\n",
       "    </tr>\n",
       "  </tbody>\n",
       "</table>\n",
       "</div>"
      ],
      "text/plain": [
       "   outgoing_mins_per_month  outgoing_sms_per_month  monthly_mb  use_id  \\\n",
       "0                    21.97                    4.82     1557.33   22787   \n",
       "1                    69.80                   14.70    25955.55   22801   \n",
       "2                   249.26                  253.22     1557.33   22875   \n",
       "3                   249.26                  253.22     1557.33   22876   \n",
       "4                    83.46                  114.06     3114.67   22880   \n",
       "\n",
       "  platform    device Branding     Model  \n",
       "0  android  GT-I9505  Samsung  GT-I9505  \n",
       "1  android  GT-I9505  Samsung  GT-I9505  \n",
       "2  android  GT-I9505  Samsung  GT-I9505  \n",
       "3  android  GT-I9505  Samsung  GT-I9505  \n",
       "4  android  GT-I9505  Samsung  GT-I9505  "
      ]
     },
     "execution_count": 37,
     "metadata": {},
     "output_type": "execute_result"
    }
   ],
   "source": [
    "#liệt kê 5 dòng đầu tiên các mẫu thiết bị (cột device) bắt đầu bằng GT\n",
    "dfKetQua[dfKetQua.device.str.startswith('GT')].head(5)"
   ]
  },
  {
   "cell_type": "code",
   "execution_count": 38,
   "metadata": {
    "scrolled": false
   },
   "outputs": [
    {
     "data": {
      "text/html": [
       "<div>\n",
       "<style scoped>\n",
       "    .dataframe tbody tr th:only-of-type {\n",
       "        vertical-align: middle;\n",
       "    }\n",
       "\n",
       "    .dataframe tbody tr th {\n",
       "        vertical-align: top;\n",
       "    }\n",
       "\n",
       "    .dataframe thead th {\n",
       "        text-align: right;\n",
       "    }\n",
       "</style>\n",
       "<table border=\"1\" class=\"dataframe\">\n",
       "  <thead>\n",
       "    <tr style=\"text-align: right;\">\n",
       "      <th></th>\n",
       "      <th>outgoing_mins_per_month</th>\n",
       "      <th>outgoing_sms_per_month</th>\n",
       "      <th>monthly_mb</th>\n",
       "      <th>use_id</th>\n",
       "    </tr>\n",
       "    <tr>\n",
       "      <th>Branding</th>\n",
       "      <th></th>\n",
       "      <th></th>\n",
       "      <th></th>\n",
       "      <th></th>\n",
       "    </tr>\n",
       "  </thead>\n",
       "  <tbody>\n",
       "    <tr>\n",
       "      <th>HTC</th>\n",
       "      <td>299.842955</td>\n",
       "      <td>93.059318</td>\n",
       "      <td>5144.077955</td>\n",
       "      <td>44</td>\n",
       "    </tr>\n",
       "    <tr>\n",
       "      <th>Huawei</th>\n",
       "      <td>81.526667</td>\n",
       "      <td>9.500000</td>\n",
       "      <td>1561.226667</td>\n",
       "      <td>3</td>\n",
       "    </tr>\n",
       "    <tr>\n",
       "      <th>LGE</th>\n",
       "      <td>111.530000</td>\n",
       "      <td>12.760000</td>\n",
       "      <td>1557.330000</td>\n",
       "      <td>2</td>\n",
       "    </tr>\n",
       "    <tr>\n",
       "      <th>Lava</th>\n",
       "      <td>60.650000</td>\n",
       "      <td>261.900000</td>\n",
       "      <td>12458.670000</td>\n",
       "      <td>2</td>\n",
       "    </tr>\n",
       "    <tr>\n",
       "      <th>Lenovo</th>\n",
       "      <td>215.920000</td>\n",
       "      <td>12.930000</td>\n",
       "      <td>1557.330000</td>\n",
       "      <td>2</td>\n",
       "    </tr>\n",
       "    <tr>\n",
       "      <th>Motorola</th>\n",
       "      <td>95.127500</td>\n",
       "      <td>65.666250</td>\n",
       "      <td>3946.500000</td>\n",
       "      <td>16</td>\n",
       "    </tr>\n",
       "    <tr>\n",
       "      <th>OnePlus</th>\n",
       "      <td>354.855000</td>\n",
       "      <td>48.330000</td>\n",
       "      <td>6575.410000</td>\n",
       "      <td>6</td>\n",
       "    </tr>\n",
       "    <tr>\n",
       "      <th>Samsung</th>\n",
       "      <td>191.010093</td>\n",
       "      <td>92.390463</td>\n",
       "      <td>4017.318889</td>\n",
       "      <td>108</td>\n",
       "    </tr>\n",
       "    <tr>\n",
       "      <th>Sony</th>\n",
       "      <td>177.315625</td>\n",
       "      <td>40.176250</td>\n",
       "      <td>3212.000625</td>\n",
       "      <td>16</td>\n",
       "    </tr>\n",
       "    <tr>\n",
       "      <th>Vodafone</th>\n",
       "      <td>42.750000</td>\n",
       "      <td>46.830000</td>\n",
       "      <td>5191.120000</td>\n",
       "      <td>1</td>\n",
       "    </tr>\n",
       "    <tr>\n",
       "      <th>ZTE</th>\n",
       "      <td>42.750000</td>\n",
       "      <td>46.830000</td>\n",
       "      <td>5191.120000</td>\n",
       "      <td>1</td>\n",
       "    </tr>\n",
       "  </tbody>\n",
       "</table>\n",
       "</div>"
      ],
      "text/plain": [
       "          outgoing_mins_per_month  outgoing_sms_per_month    monthly_mb  \\\n",
       "Branding                                                                  \n",
       "HTC                    299.842955               93.059318   5144.077955   \n",
       "Huawei                  81.526667                9.500000   1561.226667   \n",
       "LGE                    111.530000               12.760000   1557.330000   \n",
       "Lava                    60.650000              261.900000  12458.670000   \n",
       "Lenovo                 215.920000               12.930000   1557.330000   \n",
       "Motorola                95.127500               65.666250   3946.500000   \n",
       "OnePlus                354.855000               48.330000   6575.410000   \n",
       "Samsung                191.010093               92.390463   4017.318889   \n",
       "Sony                   177.315625               40.176250   3212.000625   \n",
       "Vodafone                42.750000               46.830000   5191.120000   \n",
       "ZTE                     42.750000               46.830000   5191.120000   \n",
       "\n",
       "          use_id  \n",
       "Branding          \n",
       "HTC           44  \n",
       "Huawei         3  \n",
       "LGE            2  \n",
       "Lava           2  \n",
       "Lenovo         2  \n",
       "Motorola      16  \n",
       "OnePlus        6  \n",
       "Samsung      108  \n",
       "Sony          16  \n",
       "Vodafone       1  \n",
       "ZTE            1  "
      ]
     },
     "execution_count": 38,
     "metadata": {},
     "output_type": "execute_result"
    }
   ],
   "source": [
    "#thống kê trung bình số phút hàng tháng, trung bình sms và trung bình data, số lượng\n",
    "#sử dụng của các nhãn hàng\n",
    "dfKetQua.groupby('Branding').agg({\n",
    "    'outgoing_mins_per_month': 'mean',\n",
    "    'outgoing_sms_per_month': 'mean',\n",
    "    'monthly_mb': 'mean',\n",
    "    'use_id': 'count'\n",
    "})"
   ]
  },
  {
   "cell_type": "code",
   "execution_count": 39,
   "metadata": {},
   "outputs": [],
   "source": [
    "import seaborn as sns"
   ]
  },
  {
   "cell_type": "code",
   "execution_count": 40,
   "metadata": {},
   "outputs": [
    {
     "data": {
      "text/html": [
       "<div>\n",
       "<style scoped>\n",
       "    .dataframe tbody tr th:only-of-type {\n",
       "        vertical-align: middle;\n",
       "    }\n",
       "\n",
       "    .dataframe tbody tr th {\n",
       "        vertical-align: top;\n",
       "    }\n",
       "\n",
       "    .dataframe thead th {\n",
       "        text-align: right;\n",
       "    }\n",
       "</style>\n",
       "<table border=\"1\" class=\"dataframe\">\n",
       "  <thead>\n",
       "    <tr style=\"text-align: right;\">\n",
       "      <th></th>\n",
       "      <th>outgoing_mins_per_month</th>\n",
       "      <th>outgoing_sms_per_month</th>\n",
       "      <th>monthly_mb</th>\n",
       "      <th>use_id</th>\n",
       "      <th>platform</th>\n",
       "      <th>device</th>\n",
       "      <th>Branding</th>\n",
       "      <th>Model</th>\n",
       "    </tr>\n",
       "  </thead>\n",
       "  <tbody>\n",
       "    <tr>\n",
       "      <th>0</th>\n",
       "      <td>21.97</td>\n",
       "      <td>4.82</td>\n",
       "      <td>1557.33</td>\n",
       "      <td>22787</td>\n",
       "      <td>android</td>\n",
       "      <td>GT-I9505</td>\n",
       "      <td>Samsung</td>\n",
       "      <td>GT-I9505</td>\n",
       "    </tr>\n",
       "    <tr>\n",
       "      <th>1</th>\n",
       "      <td>69.80</td>\n",
       "      <td>14.70</td>\n",
       "      <td>25955.55</td>\n",
       "      <td>22801</td>\n",
       "      <td>android</td>\n",
       "      <td>GT-I9505</td>\n",
       "      <td>Samsung</td>\n",
       "      <td>GT-I9505</td>\n",
       "    </tr>\n",
       "    <tr>\n",
       "      <th>2</th>\n",
       "      <td>249.26</td>\n",
       "      <td>253.22</td>\n",
       "      <td>1557.33</td>\n",
       "      <td>22875</td>\n",
       "      <td>android</td>\n",
       "      <td>GT-I9505</td>\n",
       "      <td>Samsung</td>\n",
       "      <td>GT-I9505</td>\n",
       "    </tr>\n",
       "    <tr>\n",
       "      <th>3</th>\n",
       "      <td>249.26</td>\n",
       "      <td>253.22</td>\n",
       "      <td>1557.33</td>\n",
       "      <td>22876</td>\n",
       "      <td>android</td>\n",
       "      <td>GT-I9505</td>\n",
       "      <td>Samsung</td>\n",
       "      <td>GT-I9505</td>\n",
       "    </tr>\n",
       "    <tr>\n",
       "      <th>4</th>\n",
       "      <td>83.46</td>\n",
       "      <td>114.06</td>\n",
       "      <td>3114.67</td>\n",
       "      <td>22880</td>\n",
       "      <td>android</td>\n",
       "      <td>GT-I9505</td>\n",
       "      <td>Samsung</td>\n",
       "      <td>GT-I9505</td>\n",
       "    </tr>\n",
       "  </tbody>\n",
       "</table>\n",
       "</div>"
      ],
      "text/plain": [
       "   outgoing_mins_per_month  outgoing_sms_per_month  monthly_mb  use_id  \\\n",
       "0                    21.97                    4.82     1557.33   22787   \n",
       "1                    69.80                   14.70    25955.55   22801   \n",
       "2                   249.26                  253.22     1557.33   22875   \n",
       "3                   249.26                  253.22     1557.33   22876   \n",
       "4                    83.46                  114.06     3114.67   22880   \n",
       "\n",
       "  platform    device Branding     Model  \n",
       "0  android  GT-I9505  Samsung  GT-I9505  \n",
       "1  android  GT-I9505  Samsung  GT-I9505  \n",
       "2  android  GT-I9505  Samsung  GT-I9505  \n",
       "3  android  GT-I9505  Samsung  GT-I9505  \n",
       "4  android  GT-I9505  Samsung  GT-I9505  "
      ]
     },
     "execution_count": 40,
     "metadata": {},
     "output_type": "execute_result"
    }
   ],
   "source": [
    "#Trực quan số lượng người dùng các nhãn hàng\n",
    "dfKetQua.head(5)"
   ]
  },
  {
   "cell_type": "code",
   "execution_count": 43,
   "metadata": {},
   "outputs": [
    {
     "data": {
      "image/png": "[encoded data removed]",
      "text/plain": [
       "<Figure size 432x288 with 1 Axes>"
      ]
     },
     "metadata": {
      "needs_background": "light"
     },
     "output_type": "display_data"
    }
   ],
   "source": [
    "sns.countplot(y='Branding', data=dfKetQua)\n",
    "plt.show()"
   ]
  },
  {
   "cell_type": "code",
   "execution_count": 66,
   "metadata": {},
   "outputs": [
    {
     "data": {
      "image/png": "[encoded data removed]",
      "text/plain": [
       "<Figure size 432x288 with 1 Axes>"
      ]
     },
     "metadata": {
      "needs_background": "light"
     },
     "output_type": "display_data"
    }
   ],
   "source": [
    "#9. Trực quan hóa dữ liệu trung bình phút gọi, trung bình sms và dung lượng sử dụng trên\n",
    "# từng nhóm nhãn hàng bán lẻ\n",
    "import seaborn as sns\n",
    "import matplotlib.pyplot as plt\n",
    "\n",
    "\n",
    "# Biểu đồ cho trung bình phút gọi\n",
    "sns.barplot(y='Branding', x='outgoing_mins_per_month', data=dfKetQua, orient='horizontal', ci=None)\n",
    "plt.show()\n"
   ]
  },
  {
   "cell_type": "code",
   "execution_count": 74,
   "metadata": {},
   "outputs": [
    {
     "data": {
      "image/png": "[encoded data removed]",
      "text/plain": [
       "<Figure size 432x288 with 1 Axes>"
      ]
     },
     "metadata": {
      "needs_background": "light"
     },
     "output_type": "display_data"
    }
   ],
   "source": [
    "#10.Khảo sát tương quan giữa phút gọi, sms và dung lượng trên từng nhóm nhãn hàng\n",
    "sns.scatterplot(x = 'outgoing_mins_per_month', y = 'outgoing_sms_per_month', data=dfKetQua, hue='Branding', alpha=0.5, size='monthly_mb')\n",
    "plt.legend(loc=\"upper right\")\n",
    "plt.show()"
   ]
  },
  {
   "cell_type": "code",
   "execution_count": 75,
   "metadata": {},
   "outputs": [],
   "source": [
    "import scipy.stats as sts"
   ]
  },
  {
   "cell_type": "code",
   "execution_count": 79,
   "metadata": {},
   "outputs": [
    {
     "name": "stdout",
     "output_type": "stream",
     "text": [
      "Trung bình outgoing_mins_per_month có bằng 200 phút\n"
     ]
    }
   ],
   "source": [
    "#11. Hãy kiểm định xem trung bình outgoing_mins_per_month có bằng 200 phút\n",
    "t_stat1, p_val1 = sts.ttest_1samp(dfKetQua['outgoing_mins_per_month'], 200)\n",
    "\n",
    "if p_val1 < 0.05:\n",
    "    print(\"Không đủ dữ kiện để chứng mình rằng trung bình outgoing_mins_per_month có bằng 200 phút\")\n",
    "else:\n",
    "    print(\"Trung bình outgoing_mins_per_month có bằng 200 phút\")"
   ]
  },
  {
   "cell_type": "code",
   "execution_count": 81,
   "metadata": {},
   "outputs": [
    {
     "name": "stdout",
     "output_type": "stream",
     "text": [
      "Không đủ dữ kiện để chứng minh rằng trung bình outgoing_sms_per_month có bằng 100 tin nhắn\n"
     ]
    }
   ],
   "source": [
    "#12. Hãy kiểm định xem trung bình outgoing_sms_per_month có bằng 100 tin nhắn\n",
    "t_stat2, p_val2 = sts.ttest_1samp(dfKetQua['outgoing_sms_per_month'], 100)\n",
    "if p_val2 < 0.05:\n",
    "    print(\"Không đủ dữ kiện để chứng minh rằng trung bình outgoing_sms_per_month có bằng 100 tin nhắn\")\n",
    "else:\n",
    "    print(\"Trung bình outgoing_sms_per_month có bằng 100 tin nhắn\")"
   ]
  },
  {
   "cell_type": "code",
   "execution_count": 83,
   "metadata": {},
   "outputs": [
    {
     "name": "stdout",
     "output_type": "stream",
     "text": [
      "Không đủ dữ kiện để chứng minh rằng trung bình monthly_mb có bằng 2048 mb\n"
     ]
    }
   ],
   "source": [
    "#13. Hãy kiểm định xem trung bình monthly_mb có bằng 2048 mb\n",
    "t_stat3, p_val3 = sts.ttest_1samp(dfKetQua['monthly_mb'], 2048)\n",
    "if p_val3 < 0.05:\n",
    "    print(\"Không đủ dữ kiện để chứng minh rằng trung bình monthly_mb có bằng 2048 mb\")\n",
    "else:\n",
    "    print(\"Trung bình monthly_mb có bằng 2048 mb\")\n"
   ]
  },
  {
   "cell_type": "code",
   "execution_count": 84,
   "metadata": {},
   "outputs": [
    {
     "name": "stdout",
     "output_type": "stream",
     "text": [
      "outgoing_sms_per_month   monthly_mb                -0.046049\n",
      "monthly_mb               outgoing_sms_per_month    -0.046049\n",
      "outgoing_mins_per_month  outgoing_sms_per_month    -0.016494\n",
      "outgoing_sms_per_month   outgoing_mins_per_month   -0.016494\n",
      "outgoing_mins_per_month  monthly_mb                 0.213489\n",
      "monthly_mb               outgoing_mins_per_month    0.213489\n",
      "outgoing_mins_per_month  outgoing_mins_per_month    1.000000\n",
      "outgoing_sms_per_month   outgoing_sms_per_month     1.000000\n",
      "monthly_mb               monthly_mb                 1.000000\n",
      "dtype: float64\n"
     ]
    }
   ],
   "source": [
    "#14. Hãy tạo ma trận tương quan giữa [outgoing_mins_per_month, outgoing_sms_per_month,\n",
    "# monthly_mb] và sắp xếp tăng dần về mức độ tương quan\n",
    "\n",
    "matrix = dfKetQua[['outgoing_mins_per_month', 'outgoing_sms_per_month', 'monthly_mb']].corr()\n",
    "\n",
    "sorted_corr = matrix.unstack().sort_values(ascending=True)\n",
    "print(sorted_corr)\n"
   ]
  },
  {
   "cell_type": "code",
   "execution_count": 87,
   "metadata": {},
   "outputs": [
    {
     "name": "stdout",
     "output_type": "stream",
     "text": [
      "Có sự tương quan giữa outgoing_mins_per_month và outgoing_sms_per_month\n"
     ]
    }
   ],
   "source": [
    "#15. Kiểm định xem outgoing_mins_per_month, outgoing_sms_per_month có tương quan\n",
    "correlation, p_value = sts.pearsonr(dfKetQua['outgoing_mins_per_month'], dfKetQua['outgoing_sms_per_month'])\n",
    "\n",
    "if p_value > 0.05:\n",
    "    print(\"Có sự tương quan giữa outgoing_mins_per_month và outgoing_sms_per_month\")\n",
    "else:\n",
    "    print(\"Không có sự tương quan giữa outgoing_mins_per_month và outgoing_sms_per_month\")"
   ]
  },
  {
   "cell_type": "code",
   "execution_count": 91,
   "metadata": {
    "scrolled": true
   },
   "outputs": [
    {
     "name": "stdout",
     "output_type": "stream",
     "text": [
      "Có mối quan hệ giữa platform và Retail Branding\n"
     ]
    }
   ],
   "source": [
    "#16. Hãy kiểm định xem có mối quan hệ nào giữa platform và branding\n",
    "contingency_table = pd.crosstab(dfKetQua['platform'], dfKetQua['Branding'])\n",
    "\n",
    "chi2, p, dof, expected = sts.chi2_contingency(contingency_table)\n",
    "\n",
    "if p > 0.05:\n",
    "    print(\"Có mối quan hệ giữa platform và Retail Branding\")\n",
    "else:\n",
    "    print(\"Không có mối quan hệ giữa platform và Retail Branding\")\n"
   ]
  },
  {
   "cell_type": "code",
   "execution_count": 114,
   "metadata": {},
   "outputs": [
    {
     "name": "stdout",
     "output_type": "stream",
     "text": [
      "Không đủ dữ liệu để thực hiện kiểm định Kruskal-Wallis\n"
     ]
    }
   ],
   "source": [
    "#17. Hãy kiểm định xem có mối quan hệ nào giữa monthly_mb và platform\n",
    "from scipy.stats import kruskal\n",
    "\n",
    "# Lọc dữ liệu để loại bỏ các giá trị thiếu\n",
    "dfKetQua_clean = dfKetQua.dropna(subset=['platform', 'monthly_mb'])\n",
    "\n",
    "# Tạo danh sách các giá trị monthly_mb cho từng nhóm platform\n",
    "groups = [group['monthly_mb'].values for name, group in dfKetQua_clean.groupby('platform') if len(group) > 0]\n",
    "\n",
    "if len(groups) < 2:\n",
    "    print(\"Không đủ dữ liệu để thực hiện kiểm định Kruskal-Wallis\")\n",
    "else:\n",
    "    stat, p = kruskal(*groups)\n",
    "    print(f'Kruskal-Wallis H-statistic: {stat}, P-value: {p}')\n",
    "\n",
    "    if p > 0.05:\n",
    "        print(\"Có mối quan hệ giữa monthly_mb và platform\")\n",
    "    else:\n",
    "        print(\"Không có mối quan hệ giữa monthly_mb và platform\")\n"
   ]
  },
  {
   "cell_type": "code",
   "execution_count": 116,
   "metadata": {},
   "outputs": [
    {
     "name": "stdout",
     "output_type": "stream",
     "text": [
      "Có mối quan hệ giữa monthly_mb và platform theo loại branding\n"
     ]
    }
   ],
   "source": [
    "#18. Hãy kiểm định xem có mối quan hệ nào giữa monthly_mb và platform theo loại branding\n",
    "\n",
    "# Loại bỏ các hàng có giá trị thiếu\n",
    "dfKetQua_clean = dfKetQua.dropna(subset=['platform', 'monthly_mb', 'Branding'])\n",
    "\n",
    "# Tạo danh sách các giá trị monthly_mb cho từng nhóm platform theo từng loại branding\n",
    "grouped_data = dfKetQua_clean.groupby(['platform', 'Branding'])['monthly_mb'].apply(list)\n",
    "\n",
    "# Tạo danh sách các giá trị monthly_mb cho từng nhóm tương tác platform + branding\n",
    "groups = [group for group in grouped_data if len(group) > 0]\n",
    "\n",
    "if len(groups) < 2:\n",
    "    print(\"Không đủ dữ liệu để thực hiện kiểm định Kruskal-Wallis\")\n",
    "else:\n",
    "    stat, p = kruskal(*groups)\n",
    "    if p > 0.05:\n",
    "        print(\"Có mối quan hệ giữa monthly_mb và platform theo loại branding\")\n",
    "    else:\n",
    "        print(\"Không có mối quan hệ giữa monthly_mb và platform theo loại branding\")\n"
   ]
  },
  {
   "cell_type": "code",
   "execution_count": 118,
   "metadata": {},
   "outputs": [
    {
     "name": "stdout",
     "output_type": "stream",
     "text": [
      "                            OLS Regression Results                            \n",
      "==============================================================================\n",
      "Dep. Variable:             monthly_mb   R-squared:                       0.047\n",
      "Model:                            OLS   Adj. R-squared:                  0.038\n",
      "Method:                 Least Squares   F-statistic:                     4.925\n",
      "Date:                Sat, 11 Jan 2025   Prob (F-statistic):            0.00818\n",
      "Time:                        08:28:31   Log-Likelihood:                -2005.3\n",
      "No. Observations:                 201   AIC:                             4017.\n",
      "Df Residuals:                     198   BIC:                             4027.\n",
      "Df Model:                           2                                         \n",
      "Covariance Type:            nonrobust                                         \n",
      "===========================================================================================\n",
      "                              coef    std err          t      P>|t|      [0.025      0.975]\n",
      "-------------------------------------------------------------------------------------------\n",
      "const                    3513.0441    631.350      5.564      0.000    2268.010    4758.078\n",
      "outgoing_mins_per_month     4.8782      1.590      3.067      0.002       1.742       8.014\n",
      "outgoing_sms_per_month     -2.8500      4.648     -0.613      0.540     -12.016       6.316\n",
      "==============================================================================\n",
      "Omnibus:                      107.866   Durbin-Watson:                   1.340\n",
      "Prob(Omnibus):                  0.000   Jarque-Bera (JB):              429.093\n",
      "Skew:                           2.237   Prob(JB):                     6.66e-94\n",
      "Kurtosis:                       8.587   Cond. No.                         539.\n",
      "==============================================================================\n",
      "\n",
      "Notes:\n",
      "[1] Standard Errors assume that the covariance matrix of the errors is correctly specified.\n"
     ]
    }
   ],
   "source": [
    "# Dữ liệu sạch, loại bỏ các giá trị thiếu\n",
    "dfKetQua_clean = dfKetQua.dropna(subset=['outgoing_mins_per_month', 'outgoing_sms_per_month', 'monthly_mb'])\n",
    "\n",
    "# Xác định các biến độc lập và phụ thuộc\n",
    "X = dfKetQua_clean[['outgoing_mins_per_month', 'outgoing_sms_per_month']]\n",
    "y = dfKetQua_clean['monthly_mb']\n",
    "\n",
    "X = sm.add_constant(X)\n",
    "\n",
    "model = sm.OLS(y, X).fit()\n",
    "\n",
    "# Hiển thị kết quả hồi quy\n",
    "print(model.summary())\n"
   ]
  },
  {
   "cell_type": "code",
   "execution_count": 107,
   "metadata": {},
   "outputs": [
    {
     "name": "stdout",
     "output_type": "stream",
     "text": [
      "Nhập số phút gọi (outgoing_mins_per_month): 50\n",
      "Nhập số tin nhắn (outgoing_sms_per_month): 75\n",
      "Dự báo dung lượng internet (monthly_mb) cho 50.0 phút gọi và 75.0 tin nhắn: 3543.20 MB\n"
     ]
    }
   ],
   "source": [
    "#20\n",
    "import statsmodels.api as sm\n",
    "\n",
    "X = dfKetQua[['outgoing_mins_per_month', 'outgoing_sms_per_month']]\n",
    "y = dfKetQua['monthly_mb']\n",
    "X = sm.add_constant(X)\n",
    "model = sm.OLS(y, X).fit()\n",
    "\n",
    "def predict_monthly_mb(outgoing_mins, outgoing_sms):\n",
    "    input_data = np.array([[1, outgoing_mins, outgoing_sms]])  # Thêm cột hằng số vào đầu dữ liệu đầu vào\n",
    "    predicted_mb = model.predict(input_data)\n",
    "    return predicted_mb[0]\n",
    "\n",
    "if __name__ == \"__main__\":\n",
    "    outgoing_mins = float(input(\"Nhập số phút gọi (outgoing_mins_per_month): \"))  \n",
    "    outgoing_sms = float(input(\"Nhập số tin nhắn (outgoing_sms_per_month): \"))  \n",
    "\n",
    "    predicted_mb = predict_monthly_mb(outgoing_mins, outgoing_sms)\n",
    "    print(f\"Dự báo dung lượng internet (monthly_mb) cho {outgoing_mins} phút gọi và {outgoing_sms} tin nhắn: {predicted_mb:.2f} MB\")"
   ]
  },
  {
   "cell_type": "code",
   "execution_count": null,
   "metadata": {},
   "outputs": [],
   "source": []
  }
 ],
 "metadata": {
  "kernelspec": {
   "display_name": "Python 3",
   "language": "python",
   "name": "python3"
  },
  "language_info": {
   "codemirror_mode": {
    "name": "ipython",
    "version": 3
   },
   "file_extension": ".py",
   "mimetype": "text/x-python",
   "name": "python",
   "nbconvert_exporter": "python",
   "pygments_lexer": "ipython3",
   "version": "3.8.5"
  }
 },
 "nbformat": 4,
 "nbformat_minor": 4
}
